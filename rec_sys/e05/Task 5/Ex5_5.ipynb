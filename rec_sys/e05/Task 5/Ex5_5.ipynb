{
 "cells": [
  {
   "cell_type": "code",
   "execution_count": null,
   "metadata": {
    "colab": {
     "base_uri": "https://localhost:8080/"
    },
    "id": "QPNkbozCXj4H",
    "outputId": "55480a80-a0c1-4264-9299-b510fe0ec613"
   },
   "outputs": [],
   "source": [
    "import random\n",
    "\n",
    "def ams_algorithm(stream, n, k, v):\n",
    "    \"\"\"\n",
    "    Computes the k-th moment of a stream using the Alon-Matias-Szegedy (AMS) method.\n",
    "\n",
    "    :param stream: List of numbers representing the stream.\n",
    "    :param n: Length of the stream.\n",
    "    :param k: Degree of the moment to estimate.\n",
    "    :param v: Number of auxiliary variables to use.\n",
    "    :return: Estimated k-th moment, list of auxiliary variables.\n",
    "    \"\"\"\n",
    "    # Initialize auxiliary variables\n",
    "    aux_vars = []\n",
    "    for _ in range(v):\n",
    "        t = random.randint(0, n - 1)  # Random position t in the stream\n",
    "        X_el = stream[t]\n",
    "        X_val = 1  # Initialize count to 1\n",
    "        aux_vars.append({\"el\": X_el, \"val\": X_val})\n",
    "\n",
    "    # Process the stream in one pass\n",
    "    for i in range(n):\n",
    "        for X in aux_vars:\n",
    "            if stream[i] == X[\"el\"]:\n",
    "                X[\"val\"] += 1  # Increment count for matching elements\n",
    "\n",
    "    # Calculate the estimate for each auxiliary variable\n",
    "    estimates = []\n",
    "    for X in aux_vars:\n",
    "        estimate = (n * (k * X[\"val\"] - (k - 1))) ** k\n",
    "        estimates.append(estimate)\n",
    "\n",
    "    # Return the average of estimates as the final result\n",
    "    final_estimate = sum(estimates) / v\n",
    "    return final_estimate, aux_vars\n",
    "\n",
    "\n",
    "# Example usage\n",
    "if __name__ == \"__main__\":\n",
    "    stream = [1, 2, 3, 2, 4, 1, 3, 4, 1, 2, 4, 3, 1, 1, 2]\n",
    "    n = len(stream)\n",
    "    for v in [1, 3, 5, 7, 9]:\n",
    "        for k in [1, 2, 3]:\n",
    "            estimate, aux_vars = ams_algorithm(stream, n, k, v)\n",
    "            print(f\"v = {v}, k = {k}, Estimate = {estimate:.2f}\")\n",
    "            print(f\"Auxiliary Variables: {aux_vars}\")\n"
   ]
  }
 ],
 "metadata": {
  "colab": {
   "provenance": []
  },
  "kernelspec": {
   "display_name": "Python 3",
   "name": "python3"
  },
  "language_info": {
   "codemirror_mode": {
    "name": "ipython",
    "version": 3
   },
   "file_extension": ".py",
   "mimetype": "text/x-python",
   "name": "python",
   "nbconvert_exporter": "python",
   "pygments_lexer": "ipython3",
   "version": "3.13.0"
  }
 },
 "nbformat": 4,
 "nbformat_minor": 0
}
