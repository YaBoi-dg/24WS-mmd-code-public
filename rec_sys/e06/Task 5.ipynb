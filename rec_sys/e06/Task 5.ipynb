{
 "cells": [
  {
   "cell_type": "markdown",
   "metadata": {},
   "source": [
    "Set up Spark"
   ]
  },
  {
   "cell_type": "code",
   "execution_count": null,
   "metadata": {},
   "outputs": [],
   "source": [
    "from pyspark.sql import SparkSession\n",
    "from pyspark.sql.functions import col, udf, explode, lit\n",
    "from pyspark.sql.types import ArrayType, StringType, IntegerType\n",
    "\n",
    "spark = SparkSession.builder \\\n",
    "    .appName(\"ShinglingDocuments\") \\\n",
    "    .getOrCreate()"
   ]
  },
  {
   "cell_type": "markdown",
   "metadata": {},
   "source": [
    "Load documents and adjust content"
   ]
  },
  {
   "cell_type": "code",
   "execution_count": null,
   "metadata": {},
   "outputs": [],
   "source": [
    "def load_documents(file_paths):\n",
    "    data = []\n",
    "    for idx, file_path in enumerate(file_paths):\n",
    "        with open(file_path, 'r', encoding='utf-8') as f:\n",
    "            text = f.read()\n",
    "            data.append((idx, text))\n",
    "    return spark.createDataFrame(data, [\"doc_id\", \"content\"])\n",
    "\n",
    "file_paths = [\n",
    "    \"brd_grundgesetz_63_2019-04-03.txt\",\n",
    "]\n",
    "\n",
    "documents_df = load_documents(file_paths)\n",
    "\n",
    "def preprocess_text(text):\n",
    "    text = text.replace(\"\\n\", \" \")\n",
    "    text = text.replace(\"\\t\", \" \")\n",
    "    text = text.replace(\"\\r\", \" \") \n",
    "    text = text.replace(\"- \", \"\")\n",
    "\n",
    "    return text\n",
    "\n"
   ]
  },
  {
   "cell_type": "markdown",
   "metadata": {},
   "source": [
    "preprocess the text"
   ]
  },
  {
   "cell_type": "code",
   "execution_count": null,
   "metadata": {},
   "outputs": [],
   "source": [
    "preprocess_udf = udf(preprocess_text, StringType())\n",
    "\n",
    "def generate_shingles(text, k):\n",
    "    shingles = [text[i:i+k] for i in range(len(text) - k + 1)]\n",
    "    return list(set(shingles)) \n",
    "\n",
    "shingle_udf = udf(lambda text, k: generate_shingles(text, k), ArrayType(StringType()))\n",
    "documents_df = documents_df.withColumn(\"cleaned_content\", preprocess_udf(col(\"content\")))"
   ]
  },
  {
   "cell_type": "markdown",
   "metadata": {},
   "source": [
    "Generate shingles"
   ]
  },
  {
   "cell_type": "code",
   "execution_count": null,
   "metadata": {},
   "outputs": [],
   "source": [
    "k_values = [5, 9]\n",
    "results = []\n",
    "\n",
    "for k in k_values:\n",
    "    shingle_df = documents_df.withColumn(\"shingles\", shingle_udf(col(\"cleaned_content\"), lit(k)))\n",
    "    distinct_shingles_df = shingle_df.withColumn(\"shingle\", explode(col(\"shingles\"))) \\\n",
    "                                     .groupBy(\"doc_id\") \\\n",
    "                                     .agg({\"shingle\": \"count\"}) \\\n",
    "                                     .withColumnRenamed(\"count(shingle)\", f\"unique_shingles_k{k}\")\n",
    "    results.append(distinct_shingles_df)\n",
    "\n",
    "final_df = results[0]\n",
    "for result_df in results[1:]:\n",
    "    final_df = final_df.join(result_df, on=\"doc_id\")"
   ]
  },
  {
   "cell_type": "markdown",
   "metadata": {},
   "source": [
    "Show Grundgesetz Shingles"
   ]
  },
  {
   "cell_type": "code",
   "execution_count": null,
   "metadata": {},
   "outputs": [],
   "source": [
    "grundgesetz_doc_id = 0\n",
    "final_df = final_df.withColumn(\"is_grundgesetz\", col(\"doc_id\") == grundgesetz_doc_id)\n",
    "final_df.show(truncate=False)"
   ]
  }
 ],
 "metadata": {
  "kernelspec": {
   "display_name": "Python 3",
   "language": "python",
   "name": "python3"
  },
  "language_info": {
   "codemirror_mode": {
    "name": "ipython",
    "version": 3
   },
   "file_extension": ".py",
   "mimetype": "text/x-python",
   "name": "python",
   "nbconvert_exporter": "python",
   "pygments_lexer": "ipython3",
   "version": "3.13.0"
  }
 },
 "nbformat": 4,
 "nbformat_minor": 2
}
