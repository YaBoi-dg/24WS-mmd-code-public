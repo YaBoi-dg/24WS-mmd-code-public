{
 "cells": [
  {
   "cell_type": "markdown",
   "metadata": {},
   "source": [
    "# Task 4"
   ]
  },
  {
   "cell_type": "markdown",
   "metadata": {},
   "source": [
    "a) At first, we define a method that can get all shingles of size k from the given string"
   ]
  },
  {
   "cell_type": "code",
   "execution_count": null,
   "metadata": {},
   "outputs": [],
   "source": [
    "def compute_k_shingles(string, k):\n",
    "    \"\"\"\n",
    "    Compute the k-shingles of a string of decimal digits.\n",
    "\n",
    "    Args:\n",
    "        string (str): The input string that represents a sequence of digits.\n",
    "        k (int): The size of the shingles.\n",
    "\n",
    "    Returns:\n",
    "        List[int]: An ordered list of positions of 1's in the Boolean vector.\n",
    "    \"\"\"\n",
    "    if k <= 0 or k > len(string):\n",
    "        raise ValueError(\"k must be a positive integer less than or equal to the length of the string.\")\n",
    "    \n",
    "    k_shingles = set()\n",
    "    \n",
    "    for i in range(len(string) - k + 1):\n",
    "        shingle_at_position_i = string[i:i + k]\n",
    "        k_shingles.add(int(shingle_at_position_i))\n",
    "\n",
    "    return sorted(k_shingles)"
   ]
  },
  {
   "cell_type": "markdown",
   "metadata": {},
   "source": [
    "Run the method with a few examples"
   ]
  },
  {
   "cell_type": "code",
   "execution_count": null,
   "metadata": {},
   "outputs": [],
   "source": [
    "input_strings = [\"1234567\", \"2024\", \"0002024\", \"00000\", \"1010101\"]\n",
    "k = 4\n",
    "\n",
    "for input_string in input_strings:\n",
    "    result = compute_k_shingles(input_string, k)\n",
    "    \n",
    "    print(f\"Input string: {input_string}, k: {k}\")\n",
    "    print(f\"Resulting k-shingles positions: {result}\")\n",
    "    print()"
   ]
  },
  {
   "cell_type": "markdown",
   "metadata": {},
   "source": [
    "b) We import pi and get the shingles, by using the method from a)\n",
    "Note, pi from the package mpmath begins with 3., so we have to compensate for the first two characters"
   ]
  },
  {
   "cell_type": "code",
   "execution_count": null,
   "metadata": {},
   "outputs": [],
   "source": [
    "from mpmath import mp\n",
    "\n",
    "mp.dps = 10002\n",
    "pi_digits = str(mp.pi)[2:10002] "
   ]
  },
  {
   "cell_type": "markdown",
   "metadata": {},
   "source": [
    "Now we get the shingles of size 12, and write those into the result file."
   ]
  },
  {
   "cell_type": "code",
   "execution_count": null,
   "metadata": {},
   "outputs": [],
   "source": [
    "k = 12\n",
    "k_shingles_positions = compute_k_shingles(pi_digits, k)\n",
    "\n",
    "output_file_path = \"./Task 4 b results.txt\"\n",
    "with open(output_file_path, \"w\") as file:\n",
    "    for position in k_shingles_positions:\n",
    "        file.write(f\"{position}\\n\")\n"
   ]
  },
  {
   "cell_type": "markdown",
   "metadata": {},
   "source": [
    "c) We begin, by efining the method for the hash function from the lecture"
   ]
  },
  {
   "cell_type": "code",
   "execution_count": null,
   "metadata": {},
   "outputs": [],
   "source": [
    "import random\n",
    "\n",
    "def minhash_signature(positions, num_hashes=5):\n",
    "    \"\"\"\n",
    "    Compute MinHash signature using specified hash functions.\n",
    "\n",
    "    Args:\n",
    "        positions (List[int]): List of positions of 1s (k-shingles) in the Boolean vector.\n",
    "        num_hashes (int): Number of hash functions to use.\n",
    "\n",
    "    Returns:\n",
    "        List[int]: List of MinHash values (one per hash function).\n",
    "    \"\"\"\n",
    "    # The hash parameters given by the exercise\n",
    "    hash_params = [(37, 126, 10**15 + 223)]\n",
    "    N = len(positions)\n",
    "    \n",
    "    # The additional hash params\n",
    "    primes = [10**15 + i for i in [37, 91, 159, 187]]\n",
    "    U = 10**12\n",
    "    for p in primes:\n",
    "        a = random.randint(0, U)\n",
    "        b = random.randint(0, U)\n",
    "        hash_params.append((a, b, p))\n",
    "    \n",
    "    minhash_values = []\n",
    "    \n",
    "    # Compute MinHash for each hash function\n",
    "    for a, b, p in hash_params:\n",
    "\n",
    "        def h(x):\n",
    "            return ((a + x * b) % p) % N + 1\n",
    "        \n",
    "        min_value = min(h(x) for x in positions)\n",
    "        minhash_values.append(min_value)\n",
    "    \n",
    "    return minhash_values\n",
    "\n",
    "minhash_result = minhash_signature(k_shingles_positions)\n",
    "\n",
    "print(\"MinHash Signatures:\")\n",
    "for i, val in enumerate(minhash_result, 1):\n",
    "    print(f\"Hash Function {i}: {val}\")"
   ]
  }
 ],
 "metadata": {
  "kernelspec": {
   "display_name": "Python 3",
   "language": "python",
   "name": "python3"
  },
  "language_info": {
   "codemirror_mode": {
    "name": "ipython",
    "version": 3
   },
   "file_extension": ".py",
   "mimetype": "text/x-python",
   "name": "python",
   "nbconvert_exporter": "python",
   "pygments_lexer": "ipython3",
   "version": "3.13.0"
  }
 },
 "nbformat": 4,
 "nbformat_minor": 2
}
